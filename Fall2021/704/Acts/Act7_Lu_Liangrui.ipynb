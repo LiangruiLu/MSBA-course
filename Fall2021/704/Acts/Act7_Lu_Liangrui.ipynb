{
 "cells": [
  {
   "cell_type": "code",
   "execution_count": 1,
   "id": "343e476b",
   "metadata": {},
   "outputs": [
    {
     "name": "stdout",
     "output_type": "stream",
     "text": [
      "Requirement already satisfied: mysql-connector-python in /opt/anaconda3/lib/python3.8/site-packages (8.0.27)\r\n",
      "Requirement already satisfied: protobuf>=3.0.0 in /opt/anaconda3/lib/python3.8/site-packages (from mysql-connector-python) (3.19.0)\r\n"
     ]
    }
   ],
   "source": [
    "!pip install mysql-connector-python\n",
    "import mysql.connector\n",
    "conn = mysql.connector.connect(\n",
    "host=\"bmgt406.rhsmith.umd.edu\", user=\"budt703\",\n",
    "password=\"budt703\", database=\"budt703_db\")"
   ]
  },
  {
   "cell_type": "code",
   "execution_count": 2,
   "id": "f6a108e6",
   "metadata": {},
   "outputs": [],
   "source": [
    "curs = conn.cursor()\n",
    "curs.execute(\"SELECT * FROM Employee_T\")"
   ]
  },
  {
   "cell_type": "code",
   "execution_count": 3,
   "id": "9aebca19",
   "metadata": {},
   "outputs": [
    {
     "name": "stdout",
     "output_type": "stream",
     "text": [
      "('000-00-000', 'Laura Ellenburg', '5342 Picklied Trout Lane', 'Nashville', 'TN', '38010', None, None, '454-56-768')\n",
      "('123-44-345', 'Phil Morris', '2134 Hilltop Rd', 'Knoxville', 'TN', '37920', None, None, '454-56-768')\n",
      "('334-45-667', 'Lawrence Haley', '5970 Spring Crest Rd', 'Nashville', 'TN', '54545', None, None, '454-56-768')\n",
      "('454-56-768', 'Robert Lewis', '17834 Deerfield Ln', 'Knoxville', 'TN', '55555', None, None, '123-44-345')\n",
      "('559-55-585', 'Mary Smith', '75 Jane Lane', 'Clearwater', 'FL', '33879', None, None, '334-45-667')\n"
     ]
    }
   ],
   "source": [
    "for row in curs.fetchall():\n",
    "    print(row)"
   ]
  },
  {
   "cell_type": "code",
   "execution_count": 4,
   "id": "0122fa5e",
   "metadata": {},
   "outputs": [],
   "source": [
    "curs.close()\n",
    "conn.close()"
   ]
  },
  {
   "cell_type": "code",
   "execution_count": null,
   "id": "0d30a0ad",
   "metadata": {},
   "outputs": [],
   "source": []
  }
 ],
 "metadata": {
  "kernelspec": {
   "display_name": "Python 3",
   "language": "python",
   "name": "python3"
  },
  "language_info": {
   "codemirror_mode": {
    "name": "ipython",
    "version": 3
   },
   "file_extension": ".py",
   "mimetype": "text/x-python",
   "name": "python",
   "nbconvert_exporter": "python",
   "pygments_lexer": "ipython3",
   "version": "3.8.8"
  }
 },
 "nbformat": 4,
 "nbformat_minor": 5
}
